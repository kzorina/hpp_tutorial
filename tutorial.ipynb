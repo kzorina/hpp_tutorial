{
 "cells": [
  {
   "cell_type": "code",
   "execution_count": null,
   "metadata": {},
   "outputs": [],
   "source": [
    "from basic_task import BasicTask\n",
    "from corba import CorbaServer\n",
    "import numpy as np"
   ]
  },
  {
   "cell_type": "markdown",
   "metadata": {},
   "source": [
    "# Plan\n",
    "#### 0. Give intro to HPP\n",
    "#### 1. Explore the basic setup to solve a task\n",
    "#### 2. Look on most-used functions"
   ]
  },
  {
   "cell_type": "markdown",
   "metadata": {},
   "source": [
    "## 1.1 Create a task\n",
    "The basic task contains Panda robot, table and two cuboid objects"
   ]
  },
  {
   "cell_type": "code",
   "execution_count": null,
   "metadata": {
    "pycharm": {
     "name": "#%%\n"
    }
   },
   "outputs": [],
   "source": [
    "# killall hppcorbaserver\n",
    "corba_server = CorbaServer()\n",
    "task = BasicTask()"
   ]
  },
  {
   "cell_type": "markdown",
   "metadata": {},
   "source": [
    "## 1.2 Solve the task\n",
    "- set start and goal configurations (robot + object)\n",
    "- clean any previous data from  problem solver\n",
    "- find a path"
   ]
  },
  {
   "cell_type": "code",
   "execution_count": null,
   "metadata": {
    "pycharm": {
     "name": "#%%\n"
    }
   },
   "outputs": [],
   "source": [
    "o1_p1 = [0.4, 0.2, 0.1]\n",
    "o2_p = [0.5, 0.5, 0.2]\n",
    "q = [0, 0, 0, 1]\n",
    "q_init = task.robot.initial_configuration() + o1_p1 + q + o2_p + q\n",
    "succ0, q_init_valid, err0 = task.cg.graph.applyNodeConstraints(task.cg.nodes['free'], q_init)\n",
    "assert succ0\n",
    "o1_p2 = [0.2, 0.3, 0.1]\n",
    "q_goal = task.robot.initial_configuration() + o1_p2 + q + o2_p + q\n",
    "succ1, q_goal_valid, err1 = task.cg.graph.applyNodeConstraints(task.cg.nodes['free'], q_goal)\n",
    "assert succ1\n",
    "task.ps.setInitialConfig(q_init_valid)\n",
    "task.ps.addGoalConfig(q_goal_valid)\n",
    "\n",
    "task.ps.clearRoadmap()\n",
    "for i in range(task.ps.numberPaths() - 1, -1, -1):\n",
    "    task.ps.erasePath(i)\n",
    "task.ps.addPathOptimizer(\"RandomShortcut\")\n",
    "task.ps.solve()\n"
   ]
  },
  {
   "cell_type": "markdown",
   "metadata": {},
   "source": [
    "## 1.3 Visualize solution"
   ]
  },
  {
   "cell_type": "code",
   "execution_count": null,
   "metadata": {},
   "outputs": [],
   "source": [
    "fps = 10\n",
    "path_id = task.ps.numberPaths() - 1\n",
    "nframes = np.ceil(task.ps.pathLength(path_id) * fps).astype(np.int)\n",
    "configs = [task.ps.configAtParam(path_id, t) for t in np.linspace(0., task.ps.pathLength(path_id), nframes)]\n",
    "\n",
    "task.render.visualise_configurations(configs)"
   ]
  },
  {
   "cell_type": "markdown",
   "metadata": {},
   "source": [
    "## 2.1 Apply state constraints function\n",
    "\n",
    "States - **free**, object_i **grasp**ed by gripper_j, pregrasp, intersec, preplace.\n",
    "\n",
    "In free all objects are subgect to placement constraint: objects are static on contact surfaces\n",
    "\n",
    "In grasp one object (as we have only one gripper) is subject to a grasp constraint: object is fixed w.r.t griper, other objects are subgect to placement constraint."
   ]
  },
  {
   "cell_type": "code",
   "execution_count": null,
   "metadata": {},
   "outputs": [],
   "source": [
    "q_init = task.robot.initial_configuration() + o1_p1 + q + o2_p + q\n",
    "succ0, q_init_valid, err0 = task.cg.graph.applyNodeConstraints(task.cg.nodes['free'], q_init)\n",
    "configs = [q_init, q_init_valid]\n",
    "task.render.visualise_configurations(configs)"
   ]
  },
  {
   "cell_type": "code",
   "execution_count": null,
   "metadata": {},
   "outputs": [],
   "source": []
  },
  {
   "cell_type": "markdown",
   "metadata": {},
   "source": [
    "## 2.2 Sample from transition\n",
    "this function is used when you want to sample a random config in a certain state\n",
    "\n",
    "*q_from should lie in the \"left\" state of transition*\n",
    "\n",
    "We will study transitions:\n",
    "\n",
    "**Loop free** (`Loop | f`) - random config from free state, objects poses are static, diff robot configurations\n",
    "\n",
    "**Loop grasp** (`'Loop | 0-0'`) - random config where gripper is grasping object using the first handle\n",
    "\n",
    "**Pregrasp** (`'panda/gripper > cuboid/handleZpx | f_01'`) - first waypoint to grasp an object\n",
    "\n",
    "**Intersec** (`'panda/gripper > cuboid/handleZpx | f_12'`) - second waypoint to grasp an object\n",
    "\n",
    "**Preplace** (`'panda/gripper > cuboid/handleZpx | f_23'`) - third waypoint to grasp an object\n"
   ]
  },
  {
   "cell_type": "code",
   "execution_count": null,
   "metadata": {},
   "outputs": [],
   "source": [
    "# task.cg.edges\n",
    "n_try = 20\n",
    "transitions = ['Loop | f', \n",
    "               'panda/gripper > cuboid/handleZpx | f_01',\n",
    "               'panda/gripper > cuboid/handleZpx | f_12', \n",
    "               'panda/gripper > cuboid/handleZpx | f_23', \n",
    "               'Loop | 0-0']\n",
    "q_from = q_init.copy()\n",
    "for trans in transitions:\n",
    "    configs = []\n",
    "    for i in range(n_try):\n",
    "        succ, q1, err = task.cg.generateTargetConfig(trans, q_from, task.robot.shootRandomConfig())\n",
    "        if not succ:\n",
    "            continue\n",
    "        q1_open_fingers = task.robot.modify_open_gripper(q1.copy())\n",
    "        res, msg = task.robot.isConfigValid(q1_open_fingers)  # Collision checking\n",
    "        if not res:\n",
    "            continue\n",
    "        configs.append(q1_open_fingers)\n",
    "    task.render.visualise_configurations(configs)\n",
    "    q_from = configs[-1].copy()\n",
    "    print(f\"In {trans} state {len(configs)} configs generated\")\n",
    "\n"
   ]
  },
  {
   "cell_type": "markdown",
   "metadata": {},
   "source": [
    "## 2.3 Direct path\n",
    "direct path will succeed if configs are in the same state, or in neighboring state (but order maters)"
   ]
  },
  {
   "cell_type": "code",
   "execution_count": null,
   "metadata": {},
   "outputs": [],
   "source": [
    "def sample_from_trans(q_from, trans, n_try=50):\n",
    "    for i in range(n_try):\n",
    "        succ, q1, err = task.cg.generateTargetConfig(trans, q_from, task.robot.shootRandomConfig())\n",
    "        if not succ:\n",
    "            continue\n",
    "        q1_open_fingers = task.robot.modify_open_gripper(q1.copy())\n",
    "        res, msg = task.robot.isConfigValid(q1_open_fingers)  # Collision checking\n",
    "        if not res:\n",
    "            continue\n",
    "        return q1_open_fingers"
   ]
  },
  {
   "cell_type": "code",
   "execution_count": null,
   "metadata": {},
   "outputs": [],
   "source": [
    "q_from = q_init_valid.copy()\n",
    "q_to = sample_from_trans(q_from, 'panda/gripper > cuboid/handleZpx | f_01')"
   ]
  },
  {
   "cell_type": "code",
   "execution_count": null,
   "metadata": {},
   "outputs": [],
   "source": [
    "res, pid, msg = task.ps.directPath(q_from, q_to, True)\n",
    "if not res:\n",
    "    res, pid, msg = task.ps.directPath(q_to, q_from, True)\n",
    "if res:\n",
    "    fps = 10\n",
    "    nframes = np.ceil(task.ps.pathLength(pid) * fps).astype(np.int)\n",
    "    configs = [task.ps.configAtParam(pid, t) for t in np.linspace(0., task.ps.pathLength(pid), nframes)]\n",
    "\n",
    "    task.render.visualise_configurations(configs)\n",
    "else:\n",
    "    print(\"direct path failed\")"
   ]
  },
  {
   "cell_type": "code",
   "execution_count": null,
   "metadata": {},
   "outputs": [],
   "source": []
  },
  {
   "cell_type": "code",
   "execution_count": null,
   "metadata": {},
   "outputs": [],
   "source": []
  }
 ],
 "metadata": {
  "kernelspec": {
   "display_name": "Python 3 (ipykernel)",
   "language": "python",
   "name": "python3"
  },
  "language_info": {
   "codemirror_mode": {
    "name": "ipython",
    "version": 3
   },
   "file_extension": ".py",
   "mimetype": "text/x-python",
   "name": "python",
   "nbconvert_exporter": "python",
   "pygments_lexer": "ipython3",
   "version": "3.8.13"
  }
 },
 "nbformat": 4,
 "nbformat_minor": 1
}