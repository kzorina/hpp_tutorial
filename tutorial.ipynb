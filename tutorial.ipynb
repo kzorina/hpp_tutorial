{
 "cells": [
  {
   "cell_type": "code",
   "execution_count": 1,
   "metadata": {},
   "outputs": [],
   "source": [
    "from basic_task import BasicTask\n",
    "from corba import CorbaServer\n",
    "import numpy as np"
   ]
  },
  {
   "cell_type": "markdown",
   "metadata": {},
   "source": [
    "# Plan\n",
    "#### 1. Explore basic setup to solve a task\n",
    "#### 2. Look on functions more close"
   ]
  },
  {
   "cell_type": "markdown",
   "metadata": {},
   "source": [
    "## 1.1 Create task\n",
    "Basic task contacins Panda robot, table and one cuboid object"
   ]
  },
  {
   "cell_type": "code",
   "execution_count": 2,
   "metadata": {
    "pycharm": {
     "name": "#%%\n"
    }
   },
   "outputs": [
    {
     "name": "stdout",
     "output_type": "stream",
     "text": [
      "LD_LIBRARY_PATH=/home/kzorina/miniconda3/envs/hpp_tutorial/lib ROS_PACKAGE_PATH=/home/kzorina/miniconda3/envs/hpp_tutorial/share/:/home/kzorina/Work/git_repos/hpp_tutorial/models/ hppcorbaserver\n",
      "[]\n",
      "You can open the visualizer by visiting the following URL:\n",
      "http://127.0.0.1:7001/static/\n",
      "You can open the visualizer by visiting the following URL:\n",
      "http://127.0.0.1:7002/static/\n",
      "{'Loop | f': 2, 'Loop | 0-0': 4, 'panda/gripper > cuboid/handleZpx | f': 6, 'panda/gripper < cuboid/handleZpx | 0-0': 7, 'panda/gripper > cuboid/handleZpx | f_01': 8, 'panda/gripper < cuboid/handleZpx | 0-0_10': 9, 'panda/gripper > cuboid/handleZpx | f_12': 10, 'panda/gripper < cuboid/handleZpx | 0-0_21': 11, 'Loop | 0-1': 13, 'panda/gripper > cuboid/handleZmx | f': 15, 'panda/gripper < cuboid/handleZmx | 0-1': 16, 'panda/gripper > cuboid/handleZmx | f_01': 17, 'panda/gripper < cuboid/handleZmx | 0-1_10': 18, 'panda/gripper > cuboid/handleZmx | f_12': 19, 'panda/gripper < cuboid/handleZmx | 0-1_21': 20, 'Loop | 0-2': 22, 'panda/gripper > cuboid/handleYmx | f': 24, 'panda/gripper < cuboid/handleYmx | 0-2': 25, 'panda/gripper > cuboid/handleYmx | f_01': 26, 'panda/gripper < cuboid/handleYmx | 0-2_10': 27, 'panda/gripper > cuboid/handleYmx | f_12': 28, 'panda/gripper < cuboid/handleYmx | 0-2_21': 29, 'Loop | 0-3': 31, 'panda/gripper > cuboid/handleYpx | f': 33, 'panda/gripper < cuboid/handleYpx | 0-3': 34, 'panda/gripper > cuboid/handleYpx | f_01': 35, 'panda/gripper < cuboid/handleYpx | 0-3_10': 36, 'panda/gripper > cuboid/handleYpx | f_12': 37, 'panda/gripper < cuboid/handleYpx | 0-3_21': 38, 'Loop | 0-4': 40, 'panda/gripper > cuboid/handleZpxSm | f': 42, 'panda/gripper < cuboid/handleZpxSm | 0-4': 43, 'panda/gripper > cuboid/handleZpxSm | f_01': 44, 'panda/gripper < cuboid/handleZpxSm | 0-4_10': 45, 'panda/gripper > cuboid/handleZpxSm | f_12': 46, 'panda/gripper < cuboid/handleZpxSm | 0-4_21': 47, 'Loop | 0-5': 49, 'panda/gripper > cuboid/handleZmxSm | f': 51, 'panda/gripper < cuboid/handleZmxSm | 0-5': 52, 'panda/gripper > cuboid/handleZmxSm | f_01': 53, 'panda/gripper < cuboid/handleZmxSm | 0-5_10': 54, 'panda/gripper > cuboid/handleZmxSm | f_12': 55, 'panda/gripper < cuboid/handleZmxSm | 0-5_21': 56, 'Loop | 0-6': 58, 'panda/gripper > cuboid/handleZpxSp | f': 60, 'panda/gripper < cuboid/handleZpxSp | 0-6': 61, 'panda/gripper > cuboid/handleZpxSp | f_01': 62, 'panda/gripper < cuboid/handleZpxSp | 0-6_10': 63, 'panda/gripper > cuboid/handleZpxSp | f_12': 64, 'panda/gripper < cuboid/handleZpxSp | 0-6_21': 65, 'Loop | 0-7': 67, 'panda/gripper > cuboid/handleZmxSp | f': 69, 'panda/gripper < cuboid/handleZmxSp | 0-7': 70, 'panda/gripper > cuboid/handleZmxSp | f_01': 71, 'panda/gripper < cuboid/handleZmxSp | 0-7_10': 72, 'panda/gripper > cuboid/handleZmxSp | f_12': 73, 'panda/gripper < cuboid/handleZmxSp | 0-7_21': 74, 'Loop | 0-8': 76, 'panda/gripper > cuboid/handleZpy | f': 78, 'panda/gripper < cuboid/handleZpy | 0-8': 79, 'panda/gripper > cuboid/handleZpy | f_01': 80, 'panda/gripper < cuboid/handleZpy | 0-8_10': 81, 'panda/gripper > cuboid/handleZpy | f_12': 82, 'panda/gripper < cuboid/handleZpy | 0-8_21': 83, 'Loop | 0-9': 85, 'panda/gripper > cuboid/handleZmy | f': 87, 'panda/gripper < cuboid/handleZmy | 0-9': 88, 'panda/gripper > cuboid/handleZmy | f_01': 89, 'panda/gripper < cuboid/handleZmy | 0-9_10': 90, 'panda/gripper > cuboid/handleZmy | f_12': 91, 'panda/gripper < cuboid/handleZmy | 0-9_21': 92, 'Loop | 0-10': 94, 'panda/gripper > cuboid/handleXmy | f': 96, 'panda/gripper < cuboid/handleXmy | 0-10': 97, 'panda/gripper > cuboid/handleXmy | f_01': 98, 'panda/gripper < cuboid/handleXmy | 0-10_10': 99, 'panda/gripper > cuboid/handleXmy | f_12': 100, 'panda/gripper < cuboid/handleXmy | 0-10_21': 101, 'Loop | 0-11': 103, 'panda/gripper > cuboid/handleXpy | f': 105, 'panda/gripper < cuboid/handleXpy | 0-11': 106, 'panda/gripper > cuboid/handleXpy | f_01': 107, 'panda/gripper < cuboid/handleXpy | 0-11_10': 108, 'panda/gripper > cuboid/handleXpy | f_12': 109, 'panda/gripper < cuboid/handleXpy | 0-11_21': 110, 'Loop | 0-12': 112, 'panda/gripper > cuboid/handleZpySm | f': 114, 'panda/gripper < cuboid/handleZpySm | 0-12': 115, 'panda/gripper > cuboid/handleZpySm | f_01': 116, 'panda/gripper < cuboid/handleZpySm | 0-12_10': 117, 'panda/gripper > cuboid/handleZpySm | f_12': 118, 'panda/gripper < cuboid/handleZpySm | 0-12_21': 119, 'Loop | 0-13': 121, 'panda/gripper > cuboid/handleZmySm | f': 123, 'panda/gripper < cuboid/handleZmySm | 0-13': 124, 'panda/gripper > cuboid/handleZmySm | f_01': 125, 'panda/gripper < cuboid/handleZmySm | 0-13_10': 126, 'panda/gripper > cuboid/handleZmySm | f_12': 127, 'panda/gripper < cuboid/handleZmySm | 0-13_21': 128, 'Loop | 0-14': 130, 'panda/gripper > cuboid/handleZpySp | f': 132, 'panda/gripper < cuboid/handleZpySp | 0-14': 133, 'panda/gripper > cuboid/handleZpySp | f_01': 134, 'panda/gripper < cuboid/handleZpySp | 0-14_10': 135, 'panda/gripper > cuboid/handleZpySp | f_12': 136, 'panda/gripper < cuboid/handleZpySp | 0-14_21': 137, 'Loop | 0-15': 139, 'panda/gripper > cuboid/handleZmySp | f': 141, 'panda/gripper < cuboid/handleZmySp | 0-15': 142, 'panda/gripper > cuboid/handleZmySp | f_01': 143, 'panda/gripper < cuboid/handleZmySp | 0-15_10': 144, 'panda/gripper > cuboid/handleZmySp | f_12': 145, 'panda/gripper < cuboid/handleZmySp | 0-15_21': 146, 'Loop | 0-16': 148, 'panda/gripper > cuboid/handleYpz | f': 150, 'panda/gripper < cuboid/handleYpz | 0-16': 151, 'panda/gripper > cuboid/handleYpz | f_01': 152, 'panda/gripper < cuboid/handleYpz | 0-16_10': 153, 'panda/gripper > cuboid/handleYpz | f_12': 154, 'panda/gripper < cuboid/handleYpz | 0-16_21': 155, 'Loop | 0-17': 157, 'panda/gripper > cuboid/handleYmz | f': 159, 'panda/gripper < cuboid/handleYmz | 0-17': 160, 'panda/gripper > cuboid/handleYmz | f_01': 161, 'panda/gripper < cuboid/handleYmz | 0-17_10': 162, 'panda/gripper > cuboid/handleYmz | f_12': 163, 'panda/gripper < cuboid/handleYmz | 0-17_21': 164, 'Loop | 0-18': 166, 'panda/gripper > cuboid/handleXmz | f': 168, 'panda/gripper < cuboid/handleXmz | 0-18': 169, 'panda/gripper > cuboid/handleXmz | f_01': 170, 'panda/gripper < cuboid/handleXmz | 0-18_10': 171, 'panda/gripper > cuboid/handleXmz | f_12': 172, 'panda/gripper < cuboid/handleXmz | 0-18_21': 173, 'Loop | 0-19': 175, 'panda/gripper > cuboid/handleXpz | f': 177, 'panda/gripper < cuboid/handleXpz | 0-19': 178, 'panda/gripper > cuboid/handleXpz | f_01': 179, 'panda/gripper < cuboid/handleXpz | 0-19_10': 180, 'panda/gripper > cuboid/handleXpz | f_12': 181, 'panda/gripper < cuboid/handleXpz | 0-19_21': 182, 'Loop | 0-20': 184, 'panda/gripper > cuboid/handleYpzSm | f': 186, 'panda/gripper < cuboid/handleYpzSm | 0-20': 187, 'panda/gripper > cuboid/handleYpzSm | f_01': 188, 'panda/gripper < cuboid/handleYpzSm | 0-20_10': 189, 'panda/gripper > cuboid/handleYpzSm | f_12': 190, 'panda/gripper < cuboid/handleYpzSm | 0-20_21': 191, 'Loop | 0-21': 193, 'panda/gripper > cuboid/handleYmzSm | f': 195, 'panda/gripper < cuboid/handleYmzSm | 0-21': 196, 'panda/gripper > cuboid/handleYmzSm | f_01': 197, 'panda/gripper < cuboid/handleYmzSm | 0-21_10': 198, 'panda/gripper > cuboid/handleYmzSm | f_12': 199, 'panda/gripper < cuboid/handleYmzSm | 0-21_21': 200, 'Loop | 0-22': 202, 'panda/gripper > cuboid/handleYpzSp | f': 204, 'panda/gripper < cuboid/handleYpzSp | 0-22': 205, 'panda/gripper > cuboid/handleYpzSp | f_01': 206, 'panda/gripper < cuboid/handleYpzSp | 0-22_10': 207, 'panda/gripper > cuboid/handleYpzSp | f_12': 208, 'panda/gripper < cuboid/handleYpzSp | 0-22_21': 209, 'Loop | 0-23': 211, 'panda/gripper > cuboid/handleYmzSp | f': 213, 'panda/gripper < cuboid/handleYmzSp | 0-23': 214, 'panda/gripper > cuboid/handleYmzSp | f_01': 215, 'panda/gripper < cuboid/handleYmzSp | 0-23_10': 216, 'panda/gripper > cuboid/handleYmzSp | f_12': 217, 'panda/gripper < cuboid/handleYmzSp | 0-23_21': 218}\n",
      "You can open the visualizer by visiting the following URL:\n",
      "http://127.0.0.1:7003/static/\n",
      "You can open the visualizer by visiting the following URL:\n",
      "http://127.0.0.1:7004/static/\n",
      "You can open the visualizer by visiting the following URL:\n",
      "http://127.0.0.1:7005/static/\n",
      "You can open the visualizer by visiting the following URL:\n",
      "http://127.0.0.1:7006/static/\n",
      "You can open the visualizer by visiting the following URL:\n",
      "http://127.0.0.1:7007/static/\n"
     ]
    },
    {
     "name": "stdout",
     "output_type": "stream",
     "text": [
      "You can open the visualizer by visiting the following URL:\n",
      "http://127.0.0.1:7008/static/\n",
      "In Loop | f state 15 configs generated\n",
      "You can open the visualizer by visiting the following URL:\n",
      "http://127.0.0.1:7009/static/\n",
      "In panda/gripper > cuboid/handleZpx | f_01 state 2 configs generated\n",
      "You can open the visualizer by visiting the following URL:\n",
      "http://127.0.0.1:7010/static/\n",
      "In panda/gripper > cuboid/handleZpx | f_12 state 20 configs generated\n",
      "You can open the visualizer by visiting the following URL:\n",
      "http://127.0.0.1:7011/static/\n",
      "In Loop | 0-0 state 17 configs generated\n"
     ]
    }
   ],
   "source": [
    "# killall hppcorbaserver\n",
    "corba_server = CorbaServer()\n",
    "task = BasicTask()"
   ]
  },
  {
   "cell_type": "markdown",
   "metadata": {},
   "source": [
    "## 1.2 Solve easy task\n",
    "- set start and goal configurations (robot + object)\n",
    "- clean any previous data from  problem solver\n",
    "- find a path"
   ]
  },
  {
   "cell_type": "code",
   "execution_count": 15,
   "metadata": {
    "pycharm": {
     "name": "#%%\n"
    }
   },
   "outputs": [
    {
     "data": {
      "text/plain": [
       "[0, 0, 5, 68]"
      ]
     },
     "execution_count": 15,
     "metadata": {},
     "output_type": "execute_result"
    }
   ],
   "source": [
    "o1_p1 = [0.4, 0.4, 0.1]\n",
    "q = [0, 0, 0, 1]\n",
    "q_init = task.robot.initial_configuration() + o1_p1 + q\n",
    "o1_p2 = [0.4, 0.1, 0.1]\n",
    "q_goal = task.robot.initial_configuration() + o1_p2 + q\n",
    "task.ps.setInitialConfig(q_init)\n",
    "task.ps.addGoalConfig(q_goal)\n",
    "\n",
    "task.ps.clearRoadmap()\n",
    "for i in range(task.ps.numberPaths() - 1, -1, -1):\n",
    "    task.ps.erasePath(i)\n",
    "task.ps.addPathOptimizer(\"RandomShortcut\")\n",
    "task.ps.solve()\n"
   ]
  },
  {
   "cell_type": "markdown",
   "metadata": {},
   "source": [
    "## 1.3 Visualize solution"
   ]
  },
  {
   "cell_type": "code",
   "execution_count": 4,
   "metadata": {},
   "outputs": [
    {
     "name": "stderr",
     "output_type": "stream",
     "text": [
      "/tmp/ipykernel_175518/3453883608.py:3: DeprecationWarning: `np.int` is a deprecated alias for the builtin `int`. To silence this warning, use `int` by itself. Doing this will not modify any behavior and is safe. When replacing `np.int`, you may wish to use e.g. `np.int64` or `np.int32` to specify the precision. If you wish to review your current use, check the release note link for additional information.\n",
      "Deprecated in NumPy 1.20; for more details and guidance: https://numpy.org/devdocs/release/1.20.0-notes.html#deprecations\n",
      "  nframes = np.ceil(task.ps.pathLength(path_id) * fps).astype(np.int)\n"
     ]
    }
   ],
   "source": [
    "fps = 10\n",
    "path_id = task.ps.numberPaths() - 1\n",
    "nframes = np.ceil(task.ps.pathLength(path_id) * fps).astype(np.int)\n",
    "configs = [task.ps.configAtParam(path_id, t) for t in np.linspace(0., task.ps.pathLength(path_id), nframes)]\n",
    "\n",
    "task.render.visualise_configurations(configs)"
   ]
  },
  {
   "cell_type": "markdown",
   "metadata": {},
   "source": [
    "## 2.1 Apply state constraints\n",
    "\n",
    "State - **free**, object_i **grasped** by gripper_j, pregrasp, intersec, preplace.\n",
    "In free all objects are subgect to placement constraint: objects are static on contact surfaces\n",
    "In grasp one object (as we have only one gripper) is subject to grasp constraint: object is fixed w.r.t griper, other objects are subgect to placement constraint."
   ]
  },
  {
   "cell_type": "code",
   "execution_count": 5,
   "metadata": {},
   "outputs": [],
   "source": [
    "q_init = task.robot.initial_configuration() + o1_p1 + q\n",
    "succ0, q_init_constr, err0 = task.cg.graph.applyNodeConstraints(task.cg.nodes['free'], q_init)\n",
    "configs = [q_init, q_init_constr]\n",
    "task.render.visualise_configurations(configs)"
   ]
  },
  {
   "cell_type": "code",
   "execution_count": 7,
   "metadata": {},
   "outputs": [
    {
     "data": {
      "text/plain": [
       "0.0"
      ]
     },
     "execution_count": 7,
     "metadata": {},
     "output_type": "execute_result"
    }
   ],
   "source": [
    "err0"
   ]
  },
  {
   "cell_type": "markdown",
   "metadata": {},
   "source": [
    "## 2.2 Sample from transition\n",
    "this function is used any time you want to sample a random config in a certain state\n",
    "\n",
    "*q_from should lie in the \"left\" state of transition*\n",
    "\n",
    "We will study transitions:\n",
    "\n",
    "**Loop free** (`Loop | f`) - random config from free state, objects poses are static, diff robot configurations\n",
    "\n",
    "**Loop grasp** (`'Loop | 0-0'`) - random config where gripper is grasping object using the first handle\n",
    "\n",
    "**Pregrasp** (`'panda/gripper > cuboid/handleZpx | f_01'`) - first waypoint to grasp an object\n",
    "\n",
    "**Intersec** (`'panda/gripper > cuboid/handleZpx | f_12'`) - second waypoint to grasp an object\n",
    "\n",
    "**Preplace** (`'panda/gripper > cuboid/handleZpx | f_23'`) - third waypoint to grasp an object\n"
   ]
  },
  {
   "cell_type": "code",
   "execution_count": 18,
   "metadata": {},
   "outputs": [],
   "source": [
    "# task.cg.edges\n",
    "n_try = 20\n",
    "transitions = ['Loop | f', \n",
    "               'panda/gripper > cuboid/handleZpx | f_01',\n",
    "               'panda/gripper > cuboid/handleZpx | f_12', \n",
    "#                'panda/gripper > cuboid/handleZpx | f_23', \n",
    "               'Loop | 0-0']\n",
    "q_from = q_init.copy()\n",
    "for trans in transitions:\n",
    "    configs = []\n",
    "    for i in range(n_try):\n",
    "        succ, q1, err = task.cg.generateTargetConfig(trans, q_from, task.robot.shootRandomConfig())\n",
    "        if not succ:\n",
    "            continue\n",
    "        q1_open_fingers = task.robot.modify_open_gripper(q1.copy())\n",
    "        res, msg = task.robot.isConfigValid(q1_open_fingers)  # Collision checking\n",
    "        if not res:\n",
    "            continue\n",
    "        configs.append(q1_open_fingers)\n",
    "    task.render.visualise_configurations(configs)\n",
    "    q_from = configs[-1].copy()\n",
    "    print(f\"In {trans} state {len(configs)} configs generated\")"
   ]
  },
  {
   "cell_type": "markdown",
   "metadata": {},
   "source": [
    "## 2.3 Direct path\n",
    "direct path will succeed if configs are in the same state, or in neighboring state (but order maters)"
   ]
  },
  {
   "cell_type": "code",
   "execution_count": 19,
   "metadata": {},
   "outputs": [],
   "source": [
    "def sample_from_trans(q_from, trans, n_try=50):\n",
    "    for i in range(n_try):\n",
    "        succ, q1, err = task.cg.generateTargetConfig(trans, q_from, task.robot.shootRandomConfig())\n",
    "        if not succ:\n",
    "            continue\n",
    "        q1_open_fingers = task.robot.modify_open_gripper(q1.copy())\n",
    "        res, msg = task.robot.isConfigValid(q1_open_fingers)  # Collision checking\n",
    "        if not res:\n",
    "            continue\n",
    "        return q1_open_fingers"
   ]
  },
  {
   "cell_type": "code",
   "execution_count": 20,
   "metadata": {},
   "outputs": [],
   "source": [
    "q_from = q_init.copy()\n",
    "q_to = sample_from_trans(q_from, 'panda/gripper > cuboid/handleZpx | f_01')"
   ]
  },
  {
   "cell_type": "code",
   "execution_count": 21,
   "metadata": {},
   "outputs": [],
   "source": [
    "res, pid, msg = task.ps.directPath(q_from, q_to, True)\n",
    "if not res:\n",
    "    res, pid, msg = task.ps.directPath(q_to, q_from, True)\n",
    "if res:\n",
    "    fps = 10\n",
    "    path_id = task.ps.numberPaths() - 1\n",
    "    nframes = np.ceil(task.ps.pathLength(pid) * fps).astype(np.int)\n",
    "    configs = [task.ps.configAtParam(pid, t) for t in np.linspace(0., task.ps.pathLength(path_id), nframes)]\n",
    "\n",
    "    task.render.visualise_configurations(configs)\n",
    "else:\n",
    "    print(\"direct path failed\")"
   ]
  },
  {
   "cell_type": "code",
   "execution_count": 22,
   "metadata": {},
   "outputs": [
    {
     "data": {
      "text/plain": [
       "True"
      ]
     },
     "execution_count": 22,
     "metadata": {},
     "output_type": "execute_result"
    }
   ],
   "source": []
  },
  {
   "cell_type": "code",
   "execution_count": null,
   "metadata": {},
   "outputs": [],
   "source": []
  }
 ],
 "metadata": {
  "kernelspec": {
   "display_name": "Python 3 (ipykernel)",
   "language": "python",
   "name": "python3"
  },
  "language_info": {
   "codemirror_mode": {
    "name": "ipython",
    "version": 3
   },
   "file_extension": ".py",
   "mimetype": "text/x-python",
   "name": "python",
   "nbconvert_exporter": "python",
   "pygments_lexer": "ipython3",
   "version": "3.8.13"
  }
 },
 "nbformat": 4,
 "nbformat_minor": 1
}
